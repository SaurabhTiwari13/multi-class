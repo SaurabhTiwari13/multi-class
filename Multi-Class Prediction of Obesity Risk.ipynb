{
 "cells": [
  {
   "cell_type": "code",
   "execution_count": 46,
   "metadata": {
    "execution": {
     "iopub.execute_input": "2024-02-22T17:58:38.318069Z",
     "iopub.status.busy": "2024-02-22T17:58:38.317469Z",
     "iopub.status.idle": "2024-02-22T17:58:38.326690Z",
     "shell.execute_reply": "2024-02-22T17:58:38.325314Z",
     "shell.execute_reply.started": "2024-02-22T17:58:38.318021Z"
    }
   },
   "outputs": [],
   "source": [
    "import numpy as np\n",
    "import pandas as pd\n",
    "import lightgbm as lgb\n",
    "from sklearn.model_selection import train_test_split\n",
    "from sklearn.metrics import roc_auc_score\n",
    "import matplotlib.pyplot as plt\n",
    "from sklearn.model_selection import StratifiedKFold\n",
    "from sklearn.feature_extraction.text import TfidfVectorizer\n",
    "from sklearn.decomposition import TruncatedSVD\n",
    "from catboost import CatBoostClassifier, Pool\n",
    "from catboost.utils import eval_metric\n",
    "import warnings\n",
    "warnings.filterwarnings(\"ignore\")"
   ]
  },
  {
   "cell_type": "code",
   "execution_count": 47,
   "metadata": {
    "execution": {
     "iopub.execute_input": "2024-02-22T17:58:38.522777Z",
     "iopub.status.busy": "2024-02-22T17:58:38.522271Z",
     "iopub.status.idle": "2024-02-22T17:58:38.530076Z",
     "shell.execute_reply": "2024-02-22T17:58:38.528070Z",
     "shell.execute_reply.started": "2024-02-22T17:58:38.522723Z"
    }
   },
   "outputs": [],
   "source": [
    "RAND_VAL=42\n",
    "num_folds=1 ## Number of folds\n",
    "n_est=6000"
   ]
  },
  {
   "cell_type": "code",
   "execution_count": 48,
   "metadata": {
    "execution": {
     "iopub.execute_input": "2024-02-22T17:58:38.645788Z",
     "iopub.status.busy": "2024-02-22T17:58:38.645312Z",
     "iopub.status.idle": "2024-02-22T17:58:38.767401Z",
     "shell.execute_reply": "2024-02-22T17:58:38.765857Z",
     "shell.execute_reply.started": "2024-02-22T17:58:38.645731Z"
    }
   },
   "outputs": [
    {
     "data": {
      "text/html": [
       "<div>\n",
       "<style scoped>\n",
       "    .dataframe tbody tr th:only-of-type {\n",
       "        vertical-align: middle;\n",
       "    }\n",
       "\n",
       "    .dataframe tbody tr th {\n",
       "        vertical-align: top;\n",
       "    }\n",
       "\n",
       "    .dataframe thead th {\n",
       "        text-align: right;\n",
       "    }\n",
       "</style>\n",
       "<table border=\"1\" class=\"dataframe\">\n",
       "  <thead>\n",
       "    <tr style=\"text-align: right;\">\n",
       "      <th></th>\n",
       "      <th>id</th>\n",
       "      <th>Gender</th>\n",
       "      <th>Age</th>\n",
       "      <th>Height</th>\n",
       "      <th>Weight</th>\n",
       "      <th>family_history_with_overweight</th>\n",
       "      <th>FAVC</th>\n",
       "      <th>FCVC</th>\n",
       "      <th>NCP</th>\n",
       "      <th>CAEC</th>\n",
       "      <th>SMOKE</th>\n",
       "      <th>CH2O</th>\n",
       "      <th>SCC</th>\n",
       "      <th>FAF</th>\n",
       "      <th>TUE</th>\n",
       "      <th>CALC</th>\n",
       "      <th>MTRANS</th>\n",
       "      <th>NObeyesdad</th>\n",
       "    </tr>\n",
       "  </thead>\n",
       "  <tbody>\n",
       "    <tr>\n",
       "      <th>0</th>\n",
       "      <td>0</td>\n",
       "      <td>Male</td>\n",
       "      <td>24.443011</td>\n",
       "      <td>1.699998</td>\n",
       "      <td>81.669950</td>\n",
       "      <td>yes</td>\n",
       "      <td>yes</td>\n",
       "      <td>2.000000</td>\n",
       "      <td>2.983297</td>\n",
       "      <td>Sometimes</td>\n",
       "      <td>no</td>\n",
       "      <td>2.763573</td>\n",
       "      <td>no</td>\n",
       "      <td>0.000000</td>\n",
       "      <td>0.976473</td>\n",
       "      <td>Sometimes</td>\n",
       "      <td>Public_Transportation</td>\n",
       "      <td>Overweight_Level_II</td>\n",
       "    </tr>\n",
       "    <tr>\n",
       "      <th>1</th>\n",
       "      <td>1</td>\n",
       "      <td>Female</td>\n",
       "      <td>18.000000</td>\n",
       "      <td>1.560000</td>\n",
       "      <td>57.000000</td>\n",
       "      <td>yes</td>\n",
       "      <td>yes</td>\n",
       "      <td>2.000000</td>\n",
       "      <td>3.000000</td>\n",
       "      <td>Frequently</td>\n",
       "      <td>no</td>\n",
       "      <td>2.000000</td>\n",
       "      <td>no</td>\n",
       "      <td>1.000000</td>\n",
       "      <td>1.000000</td>\n",
       "      <td>no</td>\n",
       "      <td>Automobile</td>\n",
       "      <td>Normal_Weight</td>\n",
       "    </tr>\n",
       "    <tr>\n",
       "      <th>2</th>\n",
       "      <td>2</td>\n",
       "      <td>Female</td>\n",
       "      <td>18.000000</td>\n",
       "      <td>1.711460</td>\n",
       "      <td>50.165754</td>\n",
       "      <td>yes</td>\n",
       "      <td>yes</td>\n",
       "      <td>1.880534</td>\n",
       "      <td>1.411685</td>\n",
       "      <td>Sometimes</td>\n",
       "      <td>no</td>\n",
       "      <td>1.910378</td>\n",
       "      <td>no</td>\n",
       "      <td>0.866045</td>\n",
       "      <td>1.673584</td>\n",
       "      <td>no</td>\n",
       "      <td>Public_Transportation</td>\n",
       "      <td>Insufficient_Weight</td>\n",
       "    </tr>\n",
       "    <tr>\n",
       "      <th>3</th>\n",
       "      <td>3</td>\n",
       "      <td>Female</td>\n",
       "      <td>20.952737</td>\n",
       "      <td>1.710730</td>\n",
       "      <td>131.274851</td>\n",
       "      <td>yes</td>\n",
       "      <td>yes</td>\n",
       "      <td>3.000000</td>\n",
       "      <td>3.000000</td>\n",
       "      <td>Sometimes</td>\n",
       "      <td>no</td>\n",
       "      <td>1.674061</td>\n",
       "      <td>no</td>\n",
       "      <td>1.467863</td>\n",
       "      <td>0.780199</td>\n",
       "      <td>Sometimes</td>\n",
       "      <td>Public_Transportation</td>\n",
       "      <td>Obesity_Type_III</td>\n",
       "    </tr>\n",
       "    <tr>\n",
       "      <th>4</th>\n",
       "      <td>4</td>\n",
       "      <td>Male</td>\n",
       "      <td>31.641081</td>\n",
       "      <td>1.914186</td>\n",
       "      <td>93.798055</td>\n",
       "      <td>yes</td>\n",
       "      <td>yes</td>\n",
       "      <td>2.679664</td>\n",
       "      <td>1.971472</td>\n",
       "      <td>Sometimes</td>\n",
       "      <td>no</td>\n",
       "      <td>1.979848</td>\n",
       "      <td>no</td>\n",
       "      <td>1.967973</td>\n",
       "      <td>0.931721</td>\n",
       "      <td>Sometimes</td>\n",
       "      <td>Public_Transportation</td>\n",
       "      <td>Overweight_Level_II</td>\n",
       "    </tr>\n",
       "  </tbody>\n",
       "</table>\n",
       "</div>"
      ],
      "text/plain": [
       "   id  Gender        Age    Height      Weight family_history_with_overweight  \\\n",
       "0   0    Male  24.443011  1.699998   81.669950                            yes   \n",
       "1   1  Female  18.000000  1.560000   57.000000                            yes   \n",
       "2   2  Female  18.000000  1.711460   50.165754                            yes   \n",
       "3   3  Female  20.952737  1.710730  131.274851                            yes   \n",
       "4   4    Male  31.641081  1.914186   93.798055                            yes   \n",
       "\n",
       "  FAVC      FCVC       NCP        CAEC SMOKE      CH2O SCC       FAF  \\\n",
       "0  yes  2.000000  2.983297   Sometimes    no  2.763573  no  0.000000   \n",
       "1  yes  2.000000  3.000000  Frequently    no  2.000000  no  1.000000   \n",
       "2  yes  1.880534  1.411685   Sometimes    no  1.910378  no  0.866045   \n",
       "3  yes  3.000000  3.000000   Sometimes    no  1.674061  no  1.467863   \n",
       "4  yes  2.679664  1.971472   Sometimes    no  1.979848  no  1.967973   \n",
       "\n",
       "        TUE       CALC                 MTRANS           NObeyesdad  \n",
       "0  0.976473  Sometimes  Public_Transportation  Overweight_Level_II  \n",
       "1  1.000000         no             Automobile        Normal_Weight  \n",
       "2  1.673584         no  Public_Transportation  Insufficient_Weight  \n",
       "3  0.780199  Sometimes  Public_Transportation     Obesity_Type_III  \n",
       "4  0.931721  Sometimes  Public_Transportation  Overweight_Level_II  "
      ]
     },
     "execution_count": 48,
     "metadata": {},
     "output_type": "execute_result"
    }
   ],
   "source": [
    "df_train = pd.read_csv('/kaggle/input/dataset13/train.csv (3)/train.csv')\n",
    "df_train.head()"
   ]
  },
  {
   "cell_type": "code",
   "execution_count": 49,
   "metadata": {
    "execution": {
     "iopub.execute_input": "2024-02-22T17:58:39.266977Z",
     "iopub.status.busy": "2024-02-22T17:58:39.266470Z",
     "iopub.status.idle": "2024-02-22T17:58:39.274374Z",
     "shell.execute_reply": "2024-02-22T17:58:39.273081Z",
     "shell.execute_reply.started": "2024-02-22T17:58:39.266940Z"
    }
   },
   "outputs": [
    {
     "data": {
      "text/plain": [
       "(20758, 18)"
      ]
     },
     "execution_count": 49,
     "metadata": {},
     "output_type": "execute_result"
    }
   ],
   "source": [
    "df_train.shape"
   ]
  },
  {
   "cell_type": "code",
   "execution_count": 50,
   "metadata": {
    "execution": {
     "iopub.execute_input": "2024-02-22T17:58:39.406143Z",
     "iopub.status.busy": "2024-02-22T17:58:39.405504Z",
     "iopub.status.idle": "2024-02-22T17:58:39.495579Z",
     "shell.execute_reply": "2024-02-22T17:58:39.494530Z",
     "shell.execute_reply.started": "2024-02-22T17:58:39.406086Z"
    }
   },
   "outputs": [
    {
     "data": {
      "text/html": [
       "<div>\n",
       "<style scoped>\n",
       "    .dataframe tbody tr th:only-of-type {\n",
       "        vertical-align: middle;\n",
       "    }\n",
       "\n",
       "    .dataframe tbody tr th {\n",
       "        vertical-align: top;\n",
       "    }\n",
       "\n",
       "    .dataframe thead th {\n",
       "        text-align: right;\n",
       "    }\n",
       "</style>\n",
       "<table border=\"1\" class=\"dataframe\">\n",
       "  <thead>\n",
       "    <tr style=\"text-align: right;\">\n",
       "      <th></th>\n",
       "      <th>id</th>\n",
       "      <th>Gender</th>\n",
       "      <th>Age</th>\n",
       "      <th>Height</th>\n",
       "      <th>Weight</th>\n",
       "      <th>family_history_with_overweight</th>\n",
       "      <th>FAVC</th>\n",
       "      <th>FCVC</th>\n",
       "      <th>NCP</th>\n",
       "      <th>CAEC</th>\n",
       "      <th>SMOKE</th>\n",
       "      <th>CH2O</th>\n",
       "      <th>SCC</th>\n",
       "      <th>FAF</th>\n",
       "      <th>TUE</th>\n",
       "      <th>CALC</th>\n",
       "      <th>MTRANS</th>\n",
       "    </tr>\n",
       "  </thead>\n",
       "  <tbody>\n",
       "    <tr>\n",
       "      <th>0</th>\n",
       "      <td>20758</td>\n",
       "      <td>Male</td>\n",
       "      <td>26.899886</td>\n",
       "      <td>1.848294</td>\n",
       "      <td>120.644178</td>\n",
       "      <td>yes</td>\n",
       "      <td>yes</td>\n",
       "      <td>2.938616</td>\n",
       "      <td>3.000000</td>\n",
       "      <td>Sometimes</td>\n",
       "      <td>no</td>\n",
       "      <td>2.825629</td>\n",
       "      <td>no</td>\n",
       "      <td>0.855400</td>\n",
       "      <td>0.000000</td>\n",
       "      <td>Sometimes</td>\n",
       "      <td>Public_Transportation</td>\n",
       "    </tr>\n",
       "    <tr>\n",
       "      <th>1</th>\n",
       "      <td>20759</td>\n",
       "      <td>Female</td>\n",
       "      <td>21.000000</td>\n",
       "      <td>1.600000</td>\n",
       "      <td>66.000000</td>\n",
       "      <td>yes</td>\n",
       "      <td>yes</td>\n",
       "      <td>2.000000</td>\n",
       "      <td>1.000000</td>\n",
       "      <td>Sometimes</td>\n",
       "      <td>no</td>\n",
       "      <td>3.000000</td>\n",
       "      <td>no</td>\n",
       "      <td>1.000000</td>\n",
       "      <td>0.000000</td>\n",
       "      <td>Sometimes</td>\n",
       "      <td>Public_Transportation</td>\n",
       "    </tr>\n",
       "    <tr>\n",
       "      <th>2</th>\n",
       "      <td>20760</td>\n",
       "      <td>Female</td>\n",
       "      <td>26.000000</td>\n",
       "      <td>1.643355</td>\n",
       "      <td>111.600553</td>\n",
       "      <td>yes</td>\n",
       "      <td>yes</td>\n",
       "      <td>3.000000</td>\n",
       "      <td>3.000000</td>\n",
       "      <td>Sometimes</td>\n",
       "      <td>no</td>\n",
       "      <td>2.621877</td>\n",
       "      <td>no</td>\n",
       "      <td>0.000000</td>\n",
       "      <td>0.250502</td>\n",
       "      <td>Sometimes</td>\n",
       "      <td>Public_Transportation</td>\n",
       "    </tr>\n",
       "    <tr>\n",
       "      <th>3</th>\n",
       "      <td>20761</td>\n",
       "      <td>Male</td>\n",
       "      <td>20.979254</td>\n",
       "      <td>1.553127</td>\n",
       "      <td>103.669116</td>\n",
       "      <td>yes</td>\n",
       "      <td>yes</td>\n",
       "      <td>2.000000</td>\n",
       "      <td>2.977909</td>\n",
       "      <td>Sometimes</td>\n",
       "      <td>no</td>\n",
       "      <td>2.786417</td>\n",
       "      <td>no</td>\n",
       "      <td>0.094851</td>\n",
       "      <td>0.000000</td>\n",
       "      <td>Sometimes</td>\n",
       "      <td>Public_Transportation</td>\n",
       "    </tr>\n",
       "    <tr>\n",
       "      <th>4</th>\n",
       "      <td>20762</td>\n",
       "      <td>Female</td>\n",
       "      <td>26.000000</td>\n",
       "      <td>1.627396</td>\n",
       "      <td>104.835346</td>\n",
       "      <td>yes</td>\n",
       "      <td>yes</td>\n",
       "      <td>3.000000</td>\n",
       "      <td>3.000000</td>\n",
       "      <td>Sometimes</td>\n",
       "      <td>no</td>\n",
       "      <td>2.653531</td>\n",
       "      <td>no</td>\n",
       "      <td>0.000000</td>\n",
       "      <td>0.741069</td>\n",
       "      <td>Sometimes</td>\n",
       "      <td>Public_Transportation</td>\n",
       "    </tr>\n",
       "  </tbody>\n",
       "</table>\n",
       "</div>"
      ],
      "text/plain": [
       "      id  Gender        Age    Height      Weight  \\\n",
       "0  20758    Male  26.899886  1.848294  120.644178   \n",
       "1  20759  Female  21.000000  1.600000   66.000000   \n",
       "2  20760  Female  26.000000  1.643355  111.600553   \n",
       "3  20761    Male  20.979254  1.553127  103.669116   \n",
       "4  20762  Female  26.000000  1.627396  104.835346   \n",
       "\n",
       "  family_history_with_overweight FAVC      FCVC       NCP       CAEC SMOKE  \\\n",
       "0                            yes  yes  2.938616  3.000000  Sometimes    no   \n",
       "1                            yes  yes  2.000000  1.000000  Sometimes    no   \n",
       "2                            yes  yes  3.000000  3.000000  Sometimes    no   \n",
       "3                            yes  yes  2.000000  2.977909  Sometimes    no   \n",
       "4                            yes  yes  3.000000  3.000000  Sometimes    no   \n",
       "\n",
       "       CH2O SCC       FAF       TUE       CALC                 MTRANS  \n",
       "0  2.825629  no  0.855400  0.000000  Sometimes  Public_Transportation  \n",
       "1  3.000000  no  1.000000  0.000000  Sometimes  Public_Transportation  \n",
       "2  2.621877  no  0.000000  0.250502  Sometimes  Public_Transportation  \n",
       "3  2.786417  no  0.094851  0.000000  Sometimes  Public_Transportation  \n",
       "4  2.653531  no  0.000000  0.741069  Sometimes  Public_Transportation  "
      ]
     },
     "execution_count": 50,
     "metadata": {},
     "output_type": "execute_result"
    }
   ],
   "source": [
    "df_test = pd.read_csv('/kaggle/input/dataset13/test.csv (2)/test.csv')\n",
    "df_test_ov = df_test.copy()\n",
    "df_test.head()"
   ]
  },
  {
   "cell_type": "code",
   "execution_count": 51,
   "metadata": {
    "execution": {
     "iopub.execute_input": "2024-02-22T17:58:39.534796Z",
     "iopub.status.busy": "2024-02-22T17:58:39.534302Z",
     "iopub.status.idle": "2024-02-22T17:58:39.544071Z",
     "shell.execute_reply": "2024-02-22T17:58:39.542808Z",
     "shell.execute_reply.started": "2024-02-22T17:58:39.534754Z"
    }
   },
   "outputs": [
    {
     "data": {
      "text/plain": [
       "Index(['id', 'Gender', 'Age', 'Height', 'Weight',\n",
       "       'family_history_with_overweight', 'FAVC', 'FCVC', 'NCP', 'CAEC',\n",
       "       'SMOKE', 'CH2O', 'SCC', 'FAF', 'TUE', 'CALC', 'MTRANS', 'NObeyesdad'],\n",
       "      dtype='object')"
      ]
     },
     "execution_count": 51,
     "metadata": {},
     "output_type": "execute_result"
    }
   ],
   "source": [
    "df_train.columns"
   ]
  },
  {
   "cell_type": "code",
   "execution_count": 52,
   "metadata": {
    "execution": {
     "iopub.execute_input": "2024-02-22T17:58:40.226226Z",
     "iopub.status.busy": "2024-02-22T17:58:40.225345Z",
     "iopub.status.idle": "2024-02-22T17:58:40.250345Z",
     "shell.execute_reply": "2024-02-22T17:58:40.248949Z",
     "shell.execute_reply.started": "2024-02-22T17:58:40.226171Z"
    }
   },
   "outputs": [
    {
     "data": {
      "text/plain": [
       "(2111, 17)"
      ]
     },
     "execution_count": 52,
     "metadata": {},
     "output_type": "execute_result"
    }
   ],
   "source": [
    "df_orig=pd.read_csv(\"/kaggle/input/dadta2/ObesityDataSet.csv\")\n",
    "df_orig.shape"
   ]
  },
  {
   "cell_type": "code",
   "execution_count": 53,
   "metadata": {
    "execution": {
     "iopub.execute_input": "2024-02-22T17:58:40.351617Z",
     "iopub.status.busy": "2024-02-22T17:58:40.351153Z",
     "iopub.status.idle": "2024-02-22T17:58:40.359361Z",
     "shell.execute_reply": "2024-02-22T17:58:40.358362Z",
     "shell.execute_reply.started": "2024-02-22T17:58:40.351577Z"
    }
   },
   "outputs": [
    {
     "data": {
      "text/plain": [
       "Index(['Gender', 'Age', 'Height', 'Weight', 'family_history_with_overweight',\n",
       "       'FAVC', 'FCVC', 'NCP', 'CAEC', 'SMOKE', 'CH2O', 'SCC', 'FAF', 'TUE',\n",
       "       'CALC', 'MTRANS', 'NObeyesdad'],\n",
       "      dtype='object')"
      ]
     },
     "execution_count": 53,
     "metadata": {},
     "output_type": "execute_result"
    }
   ],
   "source": [
    "df_orig.columns"
   ]
  },
  {
   "cell_type": "code",
   "execution_count": 54,
   "metadata": {
    "execution": {
     "iopub.execute_input": "2024-02-22T17:58:40.458927Z",
     "iopub.status.busy": "2024-02-22T17:58:40.457530Z",
     "iopub.status.idle": "2024-02-22T17:58:40.495634Z",
     "shell.execute_reply": "2024-02-22T17:58:40.494205Z",
     "shell.execute_reply.started": "2024-02-22T17:58:40.458875Z"
    }
   },
   "outputs": [
    {
     "data": {
      "text/plain": [
       "0"
      ]
     },
     "execution_count": 54,
     "metadata": {},
     "output_type": "execute_result"
    }
   ],
   "source": [
    "df_train.duplicated().sum()"
   ]
  },
  {
   "cell_type": "code",
   "execution_count": 55,
   "metadata": {
    "execution": {
     "iopub.execute_input": "2024-02-22T17:58:41.014455Z",
     "iopub.status.busy": "2024-02-22T17:58:41.013978Z",
     "iopub.status.idle": "2024-02-22T17:58:41.022512Z",
     "shell.execute_reply": "2024-02-22T17:58:41.020965Z",
     "shell.execute_reply.started": "2024-02-22T17:58:41.014419Z"
    }
   },
   "outputs": [
    {
     "data": {
      "text/plain": [
       "(20758, 18)"
      ]
     },
     "execution_count": 55,
     "metadata": {},
     "output_type": "execute_result"
    }
   ],
   "source": [
    "df_train.shape"
   ]
  },
  {
   "cell_type": "code",
   "execution_count": null,
   "metadata": {},
   "outputs": [],
   "source": []
  },
  {
   "cell_type": "code",
   "execution_count": 56,
   "metadata": {
    "execution": {
     "iopub.execute_input": "2024-02-22T17:58:41.168225Z",
     "iopub.status.busy": "2024-02-22T17:58:41.167217Z",
     "iopub.status.idle": "2024-02-22T17:58:41.185174Z",
     "shell.execute_reply": "2024-02-22T17:58:41.183670Z",
     "shell.execute_reply.started": "2024-02-22T17:58:41.168179Z"
    }
   },
   "outputs": [],
   "source": [
    "sub=pd.read_csv(\"/kaggle/input/dataset13/sample_submission (6).csv\")\n"
   ]
  },
  {
   "cell_type": "code",
   "execution_count": 57,
   "metadata": {
    "execution": {
     "iopub.execute_input": "2024-02-22T17:58:41.305492Z",
     "iopub.status.busy": "2024-02-22T17:58:41.304530Z",
     "iopub.status.idle": "2024-02-22T17:58:41.320327Z",
     "shell.execute_reply": "2024-02-22T17:58:41.318931Z",
     "shell.execute_reply.started": "2024-02-22T17:58:41.305446Z"
    }
   },
   "outputs": [
    {
     "data": {
      "text/html": [
       "<div>\n",
       "<style scoped>\n",
       "    .dataframe tbody tr th:only-of-type {\n",
       "        vertical-align: middle;\n",
       "    }\n",
       "\n",
       "    .dataframe tbody tr th {\n",
       "        vertical-align: top;\n",
       "    }\n",
       "\n",
       "    .dataframe thead th {\n",
       "        text-align: right;\n",
       "    }\n",
       "</style>\n",
       "<table border=\"1\" class=\"dataframe\">\n",
       "  <thead>\n",
       "    <tr style=\"text-align: right;\">\n",
       "      <th></th>\n",
       "      <th>id</th>\n",
       "      <th>NObeyesdad</th>\n",
       "    </tr>\n",
       "  </thead>\n",
       "  <tbody>\n",
       "    <tr>\n",
       "      <th>0</th>\n",
       "      <td>20758</td>\n",
       "      <td>Normal_Weight</td>\n",
       "    </tr>\n",
       "    <tr>\n",
       "      <th>1</th>\n",
       "      <td>20759</td>\n",
       "      <td>Normal_Weight</td>\n",
       "    </tr>\n",
       "    <tr>\n",
       "      <th>2</th>\n",
       "      <td>20760</td>\n",
       "      <td>Normal_Weight</td>\n",
       "    </tr>\n",
       "    <tr>\n",
       "      <th>3</th>\n",
       "      <td>20761</td>\n",
       "      <td>Normal_Weight</td>\n",
       "    </tr>\n",
       "    <tr>\n",
       "      <th>4</th>\n",
       "      <td>20762</td>\n",
       "      <td>Normal_Weight</td>\n",
       "    </tr>\n",
       "    <tr>\n",
       "      <th>...</th>\n",
       "      <td>...</td>\n",
       "      <td>...</td>\n",
       "    </tr>\n",
       "    <tr>\n",
       "      <th>13835</th>\n",
       "      <td>34593</td>\n",
       "      <td>Normal_Weight</td>\n",
       "    </tr>\n",
       "    <tr>\n",
       "      <th>13836</th>\n",
       "      <td>34594</td>\n",
       "      <td>Normal_Weight</td>\n",
       "    </tr>\n",
       "    <tr>\n",
       "      <th>13837</th>\n",
       "      <td>34595</td>\n",
       "      <td>Normal_Weight</td>\n",
       "    </tr>\n",
       "    <tr>\n",
       "      <th>13838</th>\n",
       "      <td>34596</td>\n",
       "      <td>Normal_Weight</td>\n",
       "    </tr>\n",
       "    <tr>\n",
       "      <th>13839</th>\n",
       "      <td>34597</td>\n",
       "      <td>Normal_Weight</td>\n",
       "    </tr>\n",
       "  </tbody>\n",
       "</table>\n",
       "<p>13840 rows × 2 columns</p>\n",
       "</div>"
      ],
      "text/plain": [
       "          id     NObeyesdad\n",
       "0      20758  Normal_Weight\n",
       "1      20759  Normal_Weight\n",
       "2      20760  Normal_Weight\n",
       "3      20761  Normal_Weight\n",
       "4      20762  Normal_Weight\n",
       "...      ...            ...\n",
       "13835  34593  Normal_Weight\n",
       "13836  34594  Normal_Weight\n",
       "13837  34595  Normal_Weight\n",
       "13838  34596  Normal_Weight\n",
       "13839  34597  Normal_Weight\n",
       "\n",
       "[13840 rows x 2 columns]"
      ]
     },
     "execution_count": 57,
     "metadata": {},
     "output_type": "execute_result"
    }
   ],
   "source": [
    "sub"
   ]
  },
  {
   "cell_type": "code",
   "execution_count": 58,
   "metadata": {
    "execution": {
     "iopub.execute_input": "2024-02-22T17:58:41.585071Z",
     "iopub.status.busy": "2024-02-22T17:58:41.584591Z",
     "iopub.status.idle": "2024-02-22T17:58:41.619400Z",
     "shell.execute_reply": "2024-02-22T17:58:41.618147Z",
     "shell.execute_reply.started": "2024-02-22T17:58:41.585039Z"
    }
   },
   "outputs": [
    {
     "name": "stdout",
     "output_type": "stream",
     "text": [
      "<class 'pandas.core.frame.DataFrame'>\n",
      "RangeIndex: 20758 entries, 0 to 20757\n",
      "Data columns (total 18 columns):\n",
      " #   Column                          Non-Null Count  Dtype  \n",
      "---  ------                          --------------  -----  \n",
      " 0   id                              20758 non-null  int64  \n",
      " 1   Gender                          20758 non-null  object \n",
      " 2   Age                             20758 non-null  float64\n",
      " 3   Height                          20758 non-null  float64\n",
      " 4   Weight                          20758 non-null  float64\n",
      " 5   family_history_with_overweight  20758 non-null  object \n",
      " 6   FAVC                            20758 non-null  object \n",
      " 7   FCVC                            20758 non-null  float64\n",
      " 8   NCP                             20758 non-null  float64\n",
      " 9   CAEC                            20758 non-null  object \n",
      " 10  SMOKE                           20758 non-null  object \n",
      " 11  CH2O                            20758 non-null  float64\n",
      " 12  SCC                             20758 non-null  object \n",
      " 13  FAF                             20758 non-null  float64\n",
      " 14  TUE                             20758 non-null  float64\n",
      " 15  CALC                            20758 non-null  object \n",
      " 16  MTRANS                          20758 non-null  object \n",
      " 17  NObeyesdad                      20758 non-null  object \n",
      "dtypes: float64(8), int64(1), object(9)\n",
      "memory usage: 2.9+ MB\n"
     ]
    }
   ],
   "source": [
    "df_train.info()"
   ]
  },
  {
   "cell_type": "code",
   "execution_count": 59,
   "metadata": {
    "execution": {
     "iopub.execute_input": "2024-02-22T17:58:42.137841Z",
     "iopub.status.busy": "2024-02-22T17:58:42.137370Z",
     "iopub.status.idle": "2024-02-22T17:58:42.147982Z",
     "shell.execute_reply": "2024-02-22T17:58:42.146830Z",
     "shell.execute_reply.started": "2024-02-22T17:58:42.137809Z"
    }
   },
   "outputs": [
    {
     "data": {
      "text/plain": [
       "7"
      ]
     },
     "execution_count": 59,
     "metadata": {},
     "output_type": "execute_result"
    }
   ],
   "source": [
    "df_train['NObeyesdad'].nunique()"
   ]
  },
  {
   "cell_type": "code",
   "execution_count": 60,
   "metadata": {
    "execution": {
     "iopub.execute_input": "2024-02-22T17:58:42.241147Z",
     "iopub.status.busy": "2024-02-22T17:58:42.240643Z",
     "iopub.status.idle": "2024-02-22T17:58:42.276003Z",
     "shell.execute_reply": "2024-02-22T17:58:42.274618Z",
     "shell.execute_reply.started": "2024-02-22T17:58:42.241113Z"
    }
   },
   "outputs": [
    {
     "data": {
      "text/plain": [
       "Gender                                2\n",
       "SCC                                   2\n",
       "SMOKE                                 2\n",
       "family_history_with_overweight        2\n",
       "FAVC                                  2\n",
       "CALC                                  3\n",
       "CAEC                                  4\n",
       "MTRANS                                5\n",
       "NObeyesdad                            7\n",
       "NCP                                 689\n",
       "FCVC                                934\n",
       "TUE                                1297\n",
       "FAF                                1360\n",
       "CH2O                               1506\n",
       "Age                                1703\n",
       "Height                             1833\n",
       "Weight                             1979\n",
       "id                                20758\n",
       "dtype: int64"
      ]
     },
     "execution_count": 60,
     "metadata": {},
     "output_type": "execute_result"
    }
   ],
   "source": [
    "df_train.nunique().sort_values(ascending=True)"
   ]
  },
  {
   "cell_type": "code",
   "execution_count": 61,
   "metadata": {
    "execution": {
     "iopub.execute_input": "2024-02-22T17:58:42.375434Z",
     "iopub.status.busy": "2024-02-22T17:58:42.374439Z",
     "iopub.status.idle": "2024-02-22T17:58:42.408818Z",
     "shell.execute_reply": "2024-02-22T17:58:42.407368Z",
     "shell.execute_reply.started": "2024-02-22T17:58:42.375389Z"
    }
   },
   "outputs": [
    {
     "data": {
      "text/plain": [
       "Index(['Gender', 'SCC', 'SMOKE', 'family_history_with_overweight', 'FAVC',\n",
       "       'CALC', 'CAEC', 'MTRANS', 'NObeyesdad', 'NCP', 'FCVC', 'TUE', 'FAF',\n",
       "       'CH2O', 'Age', 'Height', 'Weight', 'id'],\n",
       "      dtype='object')"
      ]
     },
     "execution_count": 61,
     "metadata": {},
     "output_type": "execute_result"
    }
   ],
   "source": [
    "df_train.nunique().sort_values(ascending=True).keys()"
   ]
  },
  {
   "cell_type": "code",
   "execution_count": 62,
   "metadata": {
    "execution": {
     "iopub.execute_input": "2024-02-22T17:58:42.835013Z",
     "iopub.status.busy": "2024-02-22T17:58:42.834549Z",
     "iopub.status.idle": "2024-02-22T17:58:42.846172Z",
     "shell.execute_reply": "2024-02-22T17:58:42.844688Z",
     "shell.execute_reply.started": "2024-02-22T17:58:42.834972Z"
    }
   },
   "outputs": [],
   "source": [
    "ordinal_mapping = {\n",
    "    'Insufficient_Weight': 0,\n",
    "    'Normal_Weight': 1,\n",
    "    'Overweight_Level_I': 2,\n",
    "    'Overweight_Level_II': 3,\n",
    "    'Obesity_Type_I': 4,\n",
    "    'Obesity_Type_II': 5,\n",
    "    'Obesity_Type_III': 6\n",
    "}\n",
    "\n",
    "# Map the values using the defined mapping\n",
    "df_train['NObeyesdad'] = df_train['NObeyesdad'].map(ordinal_mapping)"
   ]
  },
  {
   "cell_type": "code",
   "execution_count": 63,
   "metadata": {
    "execution": {
     "iopub.execute_input": "2024-02-22T17:58:43.251832Z",
     "iopub.status.busy": "2024-02-22T17:58:43.251322Z",
     "iopub.status.idle": "2024-02-22T17:58:43.263143Z",
     "shell.execute_reply": "2024-02-22T17:58:43.261565Z",
     "shell.execute_reply.started": "2024-02-22T17:58:43.251791Z"
    }
   },
   "outputs": [
    {
     "data": {
      "text/plain": [
       "0        3\n",
       "1        1\n",
       "2        0\n",
       "3        6\n",
       "4        3\n",
       "        ..\n",
       "20753    5\n",
       "20754    0\n",
       "20755    5\n",
       "20756    3\n",
       "20757    5\n",
       "Name: NObeyesdad, Length: 20758, dtype: int64"
      ]
     },
     "execution_count": 63,
     "metadata": {},
     "output_type": "execute_result"
    }
   ],
   "source": [
    "df_train['NObeyesdad']"
   ]
  },
  {
   "cell_type": "code",
   "execution_count": 64,
   "metadata": {
    "execution": {
     "iopub.execute_input": "2024-02-22T17:58:43.370881Z",
     "iopub.status.busy": "2024-02-22T17:58:43.370414Z",
     "iopub.status.idle": "2024-02-22T17:58:43.378297Z",
     "shell.execute_reply": "2024-02-22T17:58:43.376956Z",
     "shell.execute_reply.started": "2024-02-22T17:58:43.370846Z"
    }
   },
   "outputs": [],
   "source": [
    "dfo=df_train.select_dtypes(include='object')"
   ]
  },
  {
   "cell_type": "code",
   "execution_count": 65,
   "metadata": {
    "execution": {
     "iopub.execute_input": "2024-02-22T17:58:43.508729Z",
     "iopub.status.busy": "2024-02-22T17:58:43.508291Z",
     "iopub.status.idle": "2024-02-22T17:58:43.533828Z",
     "shell.execute_reply": "2024-02-22T17:58:43.532635Z",
     "shell.execute_reply.started": "2024-02-22T17:58:43.508698Z"
    }
   },
   "outputs": [
    {
     "data": {
      "text/plain": [
       "Gender                            2\n",
       "family_history_with_overweight    2\n",
       "FAVC                              2\n",
       "CAEC                              4\n",
       "SMOKE                             2\n",
       "SCC                               2\n",
       "CALC                              3\n",
       "MTRANS                            5\n",
       "dtype: int64"
      ]
     },
     "execution_count": 65,
     "metadata": {},
     "output_type": "execute_result"
    }
   ],
   "source": [
    "dfo.nunique()"
   ]
  },
  {
   "cell_type": "code",
   "execution_count": 66,
   "metadata": {
    "execution": {
     "iopub.execute_input": "2024-02-22T17:58:43.885804Z",
     "iopub.status.busy": "2024-02-22T17:58:43.885333Z",
     "iopub.status.idle": "2024-02-22T17:58:43.893248Z",
     "shell.execute_reply": "2024-02-22T17:58:43.891429Z",
     "shell.execute_reply.started": "2024-02-22T17:58:43.885770Z"
    }
   },
   "outputs": [],
   "source": [
    "dfn=df_train.select_dtypes(include= 'number')"
   ]
  },
  {
   "cell_type": "code",
   "execution_count": 67,
   "metadata": {
    "execution": {
     "iopub.execute_input": "2024-02-22T17:58:44.367677Z",
     "iopub.status.busy": "2024-02-22T17:58:44.367189Z",
     "iopub.status.idle": "2024-02-22T17:58:44.376494Z",
     "shell.execute_reply": "2024-02-22T17:58:44.375238Z",
     "shell.execute_reply.started": "2024-02-22T17:58:44.367643Z"
    }
   },
   "outputs": [
    {
     "data": {
      "text/plain": [
       "Index(['id', 'Age', 'Height', 'Weight', 'FCVC', 'NCP', 'CH2O', 'FAF', 'TUE',\n",
       "       'NObeyesdad'],\n",
       "      dtype='object')"
      ]
     },
     "execution_count": 67,
     "metadata": {},
     "output_type": "execute_result"
    }
   ],
   "source": [
    "dfn.columns"
   ]
  },
  {
   "cell_type": "code",
   "execution_count": 68,
   "metadata": {
    "execution": {
     "iopub.execute_input": "2024-02-22T17:58:44.489654Z",
     "iopub.status.busy": "2024-02-22T17:58:44.489199Z",
     "iopub.status.idle": "2024-02-22T17:58:44.517101Z",
     "shell.execute_reply": "2024-02-22T17:58:44.515570Z",
     "shell.execute_reply.started": "2024-02-22T17:58:44.489622Z"
    }
   },
   "outputs": [],
   "source": [
    "scale_cols = ['id', 'Age', 'Height', 'Weight', 'FCVC', 'NCP', 'CH2O', 'FAF', 'TUE']###\n",
    "for c in scale_cols:\n",
    "    min_value = df_train[c].min()\n",
    "    max_value = df_train[c].max()\n",
    "    df_train[c+\"_scaled\"] = (df_train[c] - min_value) / (max_value - min_value)\n",
    "    df_test[c+\"_scaled\"] = (df_test[c] - min_value) / (max_value - min_value)"
   ]
  },
  {
   "cell_type": "code",
   "execution_count": 69,
   "metadata": {
    "execution": {
     "iopub.execute_input": "2024-02-22T17:58:44.632164Z",
     "iopub.status.busy": "2024-02-22T17:58:44.631700Z",
     "iopub.status.idle": "2024-02-22T17:58:44.641839Z",
     "shell.execute_reply": "2024-02-22T17:58:44.640665Z",
     "shell.execute_reply.started": "2024-02-22T17:58:44.632132Z"
    }
   },
   "outputs": [
    {
     "data": {
      "text/plain": [
       "array(['Sometimes', 'Frequently', 'no', 'Always'], dtype=object)"
      ]
     },
     "execution_count": 69,
     "metadata": {},
     "output_type": "execute_result"
    }
   ],
   "source": [
    "df_train['CAEC'].unique()"
   ]
  },
  {
   "cell_type": "code",
   "execution_count": 70,
   "metadata": {
    "execution": {
     "iopub.execute_input": "2024-02-22T17:58:44.743335Z",
     "iopub.status.busy": "2024-02-22T17:58:44.742138Z",
     "iopub.status.idle": "2024-02-22T17:58:44.755559Z",
     "shell.execute_reply": "2024-02-22T17:58:44.753796Z",
     "shell.execute_reply.started": "2024-02-22T17:58:44.743293Z"
    }
   },
   "outputs": [
    {
     "data": {
      "text/plain": [
       "0        3\n",
       "1        1\n",
       "2        0\n",
       "3        6\n",
       "4        3\n",
       "        ..\n",
       "20753    5\n",
       "20754    0\n",
       "20755    5\n",
       "20756    3\n",
       "20757    5\n",
       "Name: NObeyesdad, Length: 20758, dtype: int64"
      ]
     },
     "execution_count": 70,
     "metadata": {},
     "output_type": "execute_result"
    }
   ],
   "source": [
    "df_train['NObeyesdad']"
   ]
  },
  {
   "cell_type": "code",
   "execution_count": 71,
   "metadata": {
    "execution": {
     "iopub.execute_input": "2024-02-22T17:58:45.443976Z",
     "iopub.status.busy": "2024-02-22T17:58:45.443500Z",
     "iopub.status.idle": "2024-02-22T17:58:45.451862Z",
     "shell.execute_reply": "2024-02-22T17:58:45.450292Z",
     "shell.execute_reply.started": "2024-02-22T17:58:45.443943Z"
    }
   },
   "outputs": [
    {
     "data": {
      "text/plain": [
       "((20758, 27), (13840, 26))"
      ]
     },
     "execution_count": 71,
     "metadata": {},
     "output_type": "execute_result"
    }
   ],
   "source": [
    "df_train.shape,df_test.shape"
   ]
  },
  {
   "cell_type": "code",
   "execution_count": 72,
   "metadata": {
    "execution": {
     "iopub.execute_input": "2024-02-22T17:58:45.557463Z",
     "iopub.status.busy": "2024-02-22T17:58:45.556996Z",
     "iopub.status.idle": "2024-02-22T17:58:45.580163Z",
     "shell.execute_reply": "2024-02-22T17:58:45.578950Z",
     "shell.execute_reply.started": "2024-02-22T17:58:45.557432Z"
    }
   },
   "outputs": [],
   "source": [
    "df_train['BMI'] = df_train['Weight'] / (df_train['Height'] ** 2)\n",
    "df_train['Caloric_Intake'] = (df_train['FCVC'] + df_train['FAF']) * df_train['CH2O']\n",
    "df_train['Weight_Status_Score'] = (df_train['Weight'] - df_train['Weight'].mean()) / df_train['Weight'].std()\n",
    "df_train['Physical_Activity_Minutes'] = df_train['FAF'] * (df_train['TUE'] / df_train['FAF'].mean())\n",
    "df_train['Nutrient_Ratio'] = df_train['CH2O'] / (df_train['FCVC'] + 1)\n",
    "df_train['Age_Weighted_BMI'] = df_train['BMI'] * (1 + df_train['Age'] / df_train['Age'].max())\n",
    "df_train['Physical_Activity_Diversity'] = df_train['FCVC'] * df_train['FAF']\n",
    "df_train['Weight_Change_Rate'] = (df_train['Weight'] - df_train['Weight'].shift(1)) / df_train['Weight'].shift(1)\n"
   ]
  },
  {
   "cell_type": "code",
   "execution_count": 73,
   "metadata": {
    "execution": {
     "iopub.execute_input": "2024-02-22T17:58:45.721191Z",
     "iopub.status.busy": "2024-02-22T17:58:45.720718Z",
     "iopub.status.idle": "2024-02-22T17:58:45.740834Z",
     "shell.execute_reply": "2024-02-22T17:58:45.739358Z",
     "shell.execute_reply.started": "2024-02-22T17:58:45.721159Z"
    }
   },
   "outputs": [],
   "source": [
    "df_test['BMI'] = df_test['Weight'] / (df_test['Height'] ** 2)\n",
    "df_test['Caloric_Intake'] = (df_test['FCVC'] + df_test['FAF']) * df_test['CH2O']\n",
    "df_test['Weight_Status_Score'] = (df_test['Weight'] - df_test['Weight'].mean()) / df_test['Weight'].std()\n",
    "df_test['Physical_Activity_Minutes'] = df_test['FAF'] * (df_test['TUE'] / df_test['FAF'].mean())\n",
    "df_test['Nutrient_Ratio'] = df_test['CH2O'] / (df_test['FCVC'] + 1)\n",
    "df_test['Age_Weighted_BMI'] = df_test['BMI'] * (1 + df_test['Age'] / df_test['Age'].max())\n",
    "df_test['Physical_Activity_Diversity'] = df_test['FCVC'] * df_test['FAF']\n",
    "df_test['Weight_Change_Rate'] = (df_test['Weight'] - df_test['Weight'].shift(1)) / df_test['Weight'].shift(1)\n"
   ]
  },
  {
   "cell_type": "code",
   "execution_count": 74,
   "metadata": {
    "execution": {
     "iopub.execute_input": "2024-02-22T17:58:45.807199Z",
     "iopub.status.busy": "2024-02-22T17:58:45.806689Z",
     "iopub.status.idle": "2024-02-22T17:58:45.841462Z",
     "shell.execute_reply": "2024-02-22T17:58:45.840086Z",
     "shell.execute_reply.started": "2024-02-22T17:58:45.807166Z"
    }
   },
   "outputs": [],
   "source": [
    "df_train=df_train.dropna(axis=0)"
   ]
  },
  {
   "cell_type": "code",
   "execution_count": 75,
   "metadata": {
    "execution": {
     "iopub.execute_input": "2024-02-22T17:58:45.907973Z",
     "iopub.status.busy": "2024-02-22T17:58:45.907444Z",
     "iopub.status.idle": "2024-02-22T17:58:45.933385Z",
     "shell.execute_reply": "2024-02-22T17:58:45.932071Z",
     "shell.execute_reply.started": "2024-02-22T17:58:45.907937Z"
    }
   },
   "outputs": [],
   "source": [
    "df_test=df_test.dropna(axis=0)"
   ]
  },
  {
   "cell_type": "code",
   "execution_count": 76,
   "metadata": {
    "execution": {
     "iopub.execute_input": "2024-02-22T17:58:46.502056Z",
     "iopub.status.busy": "2024-02-22T17:58:46.501307Z",
     "iopub.status.idle": "2024-02-22T17:58:46.510129Z",
     "shell.execute_reply": "2024-02-22T17:58:46.508649Z",
     "shell.execute_reply.started": "2024-02-22T17:58:46.502020Z"
    }
   },
   "outputs": [],
   "source": [
    "dfo=df_train.select_dtypes(include='object')"
   ]
  },
  {
   "cell_type": "code",
   "execution_count": 77,
   "metadata": {
    "execution": {
     "iopub.execute_input": "2024-02-22T17:58:46.846849Z",
     "iopub.status.busy": "2024-02-22T17:58:46.846390Z",
     "iopub.status.idle": "2024-02-22T17:58:46.855113Z",
     "shell.execute_reply": "2024-02-22T17:58:46.853841Z",
     "shell.execute_reply.started": "2024-02-22T17:58:46.846816Z"
    }
   },
   "outputs": [
    {
     "data": {
      "text/plain": [
       "Index(['Gender', 'family_history_with_overweight', 'FAVC', 'CAEC', 'SMOKE',\n",
       "       'SCC', 'CALC', 'MTRANS'],\n",
       "      dtype='object')"
      ]
     },
     "execution_count": 77,
     "metadata": {},
     "output_type": "execute_result"
    }
   ],
   "source": [
    "dfo.columns"
   ]
  },
  {
   "cell_type": "code",
   "execution_count": 78,
   "metadata": {
    "execution": {
     "iopub.execute_input": "2024-02-22T17:58:46.888852Z",
     "iopub.status.busy": "2024-02-22T17:58:46.887946Z",
     "iopub.status.idle": "2024-02-22T17:58:47.273611Z",
     "shell.execute_reply": "2024-02-22T17:58:47.272194Z",
     "shell.execute_reply.started": "2024-02-22T17:58:46.888812Z"
    }
   },
   "outputs": [
    {
     "data": {
      "image/png": "[encoded data removed]",
      "text/plain": [
       "<Figure size 640x480 with 1 Axes>"
      ]
     },
     "metadata": {},
     "output_type": "display_data"
    }
   ],
   "source": [
    "import seaborn as sns\n",
    "import matplotlib.pyplot as plt\n",
    "\n",
    "sns.countplot(x='CAEC', hue='NObeyesdad', data=df_train)\n",
    "plt.show()\n"
   ]
  },
  {
   "cell_type": "code",
   "execution_count": 79,
   "metadata": {
    "execution": {
     "iopub.execute_input": "2024-02-22T17:58:47.277503Z",
     "iopub.status.busy": "2024-02-22T17:58:47.276458Z",
     "iopub.status.idle": "2024-02-22T17:58:47.322964Z",
     "shell.execute_reply": "2024-02-22T17:58:47.321676Z",
     "shell.execute_reply.started": "2024-02-22T17:58:47.277451Z"
    }
   },
   "outputs": [],
   "source": [
    "\n",
    "# Create a new variable based on the condition\n",
    "df_train['CAEC1'] = df_train['CAEC'].apply(lambda x: 2 if x == 'no' else (1 if x == 'Always' else (0 if x == 'Frequently' else 6)))\n",
    "df_train['Gender1'] = df_train['Gender'].apply(lambda x: 6 if x == 'Female' else 5)\n",
    "\n",
    "\n"
   ]
  },
  {
   "cell_type": "code",
   "execution_count": 80,
   "metadata": {
    "execution": {
     "iopub.execute_input": "2024-02-22T17:58:47.324885Z",
     "iopub.status.busy": "2024-02-22T17:58:47.324492Z",
     "iopub.status.idle": "2024-02-22T17:58:47.359623Z",
     "shell.execute_reply": "2024-02-22T17:58:47.358396Z",
     "shell.execute_reply.started": "2024-02-22T17:58:47.324853Z"
    }
   },
   "outputs": [],
   "source": [
    "df_test['CAEC1'] = df_test['CAEC'].apply(lambda x: 2 if x == 'no' else (1 if x == 'Always' else (0 if x == 'Frequently' else 6)))\n",
    "df_test['Gender1'] = df_test['Gender'].apply(lambda x: 6 if x == 'Female' else 5)\n"
   ]
  },
  {
   "cell_type": "code",
   "execution_count": 81,
   "metadata": {
    "execution": {
     "iopub.execute_input": "2024-02-22T17:58:47.363634Z",
     "iopub.status.busy": "2024-02-22T17:58:47.363070Z",
     "iopub.status.idle": "2024-02-22T17:58:47.369656Z",
     "shell.execute_reply": "2024-02-22T17:58:47.368072Z",
     "shell.execute_reply.started": "2024-02-22T17:58:47.363587Z"
    }
   },
   "outputs": [],
   "source": [
    "df=df_train"
   ]
  },
  {
   "cell_type": "code",
   "execution_count": 82,
   "metadata": {
    "execution": {
     "iopub.execute_input": "2024-02-22T17:58:47.371967Z",
     "iopub.status.busy": "2024-02-22T17:58:47.371478Z",
     "iopub.status.idle": "2024-02-22T17:58:47.381010Z",
     "shell.execute_reply": "2024-02-22T17:58:47.379650Z",
     "shell.execute_reply.started": "2024-02-22T17:58:47.371931Z"
    }
   },
   "outputs": [],
   "source": [
    "df1=df_test"
   ]
  },
  {
   "cell_type": "code",
   "execution_count": 83,
   "metadata": {
    "execution": {
     "iopub.execute_input": "2024-02-22T17:58:47.383031Z",
     "iopub.status.busy": "2024-02-22T17:58:47.382628Z",
     "iopub.status.idle": "2024-02-22T17:58:47.395856Z",
     "shell.execute_reply": "2024-02-22T17:58:47.394343Z",
     "shell.execute_reply.started": "2024-02-22T17:58:47.383001Z"
    }
   },
   "outputs": [
    {
     "data": {
      "text/plain": [
       "1        Female\n",
       "2        Female\n",
       "3        Female\n",
       "4          Male\n",
       "5          Male\n",
       "          ...  \n",
       "20753      Male\n",
       "20754      Male\n",
       "20755      Male\n",
       "20756      Male\n",
       "20757      Male\n",
       "Name: Gender, Length: 20757, dtype: object"
      ]
     },
     "execution_count": 83,
     "metadata": {},
     "output_type": "execute_result"
    }
   ],
   "source": [
    "df['Gender']"
   ]
  },
  {
   "cell_type": "code",
   "execution_count": 84,
   "metadata": {
    "execution": {
     "iopub.execute_input": "2024-02-22T17:58:47.398275Z",
     "iopub.status.busy": "2024-02-22T17:58:47.397850Z",
     "iopub.status.idle": "2024-02-22T17:58:47.616395Z",
     "shell.execute_reply": "2024-02-22T17:58:47.615005Z",
     "shell.execute_reply.started": "2024-02-22T17:58:47.398245Z"
    }
   },
   "outputs": [
    {
     "name": "stdout",
     "output_type": "stream",
     "text": [
      "<class 'pandas.core.frame.DataFrame'>\n",
      "Index: 20757 entries, 1 to 20757\n",
      "Data columns (total 37 columns):\n",
      " #   Column                          Non-Null Count  Dtype  \n",
      "---  ------                          --------------  -----  \n",
      " 0   id                              20757 non-null  int64  \n",
      " 1   Gender                          20757 non-null  object \n",
      " 2   Age                             20757 non-null  float64\n",
      " 3   Height                          20757 non-null  float64\n",
      " 4   Weight                          20757 non-null  float64\n",
      " 5   family_history_with_overweight  20757 non-null  object \n",
      " 6   FAVC                            20757 non-null  object \n",
      " 7   FCVC                            20757 non-null  float64\n",
      " 8   NCP                             20757 non-null  float64\n",
      " 9   CAEC                            20757 non-null  object \n",
      " 10  SMOKE                           20757 non-null  object \n",
      " 11  CH2O                            20757 non-null  float64\n",
      " 12  SCC                             20757 non-null  object \n",
      " 13  FAF                             20757 non-null  float64\n",
      " 14  TUE                             20757 non-null  float64\n",
      " 15  CALC                            20757 non-null  object \n",
      " 16  MTRANS                          20757 non-null  object \n",
      " 17  NObeyesdad                      20757 non-null  int64  \n",
      " 18  id_scaled                       20757 non-null  float64\n",
      " 19  Age_scaled                      20757 non-null  float64\n",
      " 20  Height_scaled                   20757 non-null  float64\n",
      " 21  Weight_scaled                   20757 non-null  float64\n",
      " 22  FCVC_scaled                     20757 non-null  float64\n",
      " 23  NCP_scaled                      20757 non-null  float64\n",
      " 24  CH2O_scaled                     20757 non-null  float64\n",
      " 25  FAF_scaled                      20757 non-null  float64\n",
      " 26  TUE_scaled                      20757 non-null  float64\n",
      " 27  BMI                             20757 non-null  float64\n",
      " 28  Caloric_Intake                  20757 non-null  float64\n",
      " 29  Weight_Status_Score             20757 non-null  float64\n",
      " 30  Physical_Activity_Minutes       20757 non-null  float64\n",
      " 31  Nutrient_Ratio                  20757 non-null  float64\n",
      " 32  Age_Weighted_BMI                20757 non-null  float64\n",
      " 33  Physical_Activity_Diversity     20757 non-null  float64\n",
      " 34  Weight_Change_Rate              20757 non-null  float64\n",
      " 35  CAEC1                           20757 non-null  int64  \n",
      " 36  Gender1                         20757 non-null  int64  \n",
      "dtypes: float64(25), int64(4), object(8)\n",
      "memory usage: 6.0+ MB\n"
     ]
    }
   ],
   "source": [
    "df.info()"
   ]
  },
  {
   "cell_type": "code",
   "execution_count": 85,
   "metadata": {
    "execution": {
     "iopub.execute_input": "2024-02-22T17:58:47.618710Z",
     "iopub.status.busy": "2024-02-22T17:58:47.618333Z",
     "iopub.status.idle": "2024-02-22T17:58:47.650466Z",
     "shell.execute_reply": "2024-02-22T17:58:47.649159Z",
     "shell.execute_reply.started": "2024-02-22T17:58:47.618680Z"
    }
   },
   "outputs": [
    {
     "name": "stdout",
     "output_type": "stream",
     "text": [
      "<class 'pandas.core.frame.DataFrame'>\n",
      "Index: 13839 entries, 1 to 13839\n",
      "Data columns (total 36 columns):\n",
      " #   Column                          Non-Null Count  Dtype  \n",
      "---  ------                          --------------  -----  \n",
      " 0   id                              13839 non-null  int64  \n",
      " 1   Gender                          13839 non-null  object \n",
      " 2   Age                             13839 non-null  float64\n",
      " 3   Height                          13839 non-null  float64\n",
      " 4   Weight                          13839 non-null  float64\n",
      " 5   family_history_with_overweight  13839 non-null  object \n",
      " 6   FAVC                            13839 non-null  object \n",
      " 7   FCVC                            13839 non-null  float64\n",
      " 8   NCP                             13839 non-null  float64\n",
      " 9   CAEC                            13839 non-null  object \n",
      " 10  SMOKE                           13839 non-null  object \n",
      " 11  CH2O                            13839 non-null  float64\n",
      " 12  SCC                             13839 non-null  object \n",
      " 13  FAF                             13839 non-null  float64\n",
      " 14  TUE                             13839 non-null  float64\n",
      " 15  CALC                            13839 non-null  object \n",
      " 16  MTRANS                          13839 non-null  object \n",
      " 17  id_scaled                       13839 non-null  float64\n",
      " 18  Age_scaled                      13839 non-null  float64\n",
      " 19  Height_scaled                   13839 non-null  float64\n",
      " 20  Weight_scaled                   13839 non-null  float64\n",
      " 21  FCVC_scaled                     13839 non-null  float64\n",
      " 22  NCP_scaled                      13839 non-null  float64\n",
      " 23  CH2O_scaled                     13839 non-null  float64\n",
      " 24  FAF_scaled                      13839 non-null  float64\n",
      " 25  TUE_scaled                      13839 non-null  float64\n",
      " 26  BMI                             13839 non-null  float64\n",
      " 27  Caloric_Intake                  13839 non-null  float64\n",
      " 28  Weight_Status_Score             13839 non-null  float64\n",
      " 29  Physical_Activity_Minutes       13839 non-null  float64\n",
      " 30  Nutrient_Ratio                  13839 non-null  float64\n",
      " 31  Age_Weighted_BMI                13839 non-null  float64\n",
      " 32  Physical_Activity_Diversity     13839 non-null  float64\n",
      " 33  Weight_Change_Rate              13839 non-null  float64\n",
      " 34  CAEC1                           13839 non-null  int64  \n",
      " 35  Gender1                         13839 non-null  int64  \n",
      "dtypes: float64(25), int64(3), object(8)\n",
      "memory usage: 3.9+ MB\n"
     ]
    }
   ],
   "source": [
    "df1.info()"
   ]
  },
  {
   "cell_type": "code",
   "execution_count": 86,
   "metadata": {
    "execution": {
     "iopub.execute_input": "2024-02-22T17:58:47.652720Z",
     "iopub.status.busy": "2024-02-22T17:58:47.652060Z",
     "iopub.status.idle": "2024-02-22T17:58:47.687909Z",
     "shell.execute_reply": "2024-02-22T17:58:47.686656Z",
     "shell.execute_reply.started": "2024-02-22T17:58:47.652684Z"
    }
   },
   "outputs": [
    {
     "name": "stdout",
     "output_type": "stream",
     "text": [
      "<class 'pandas.core.frame.DataFrame'>\n",
      "Index: 20757 entries, 1 to 20757\n",
      "Data columns (total 37 columns):\n",
      " #   Column                          Non-Null Count  Dtype  \n",
      "---  ------                          --------------  -----  \n",
      " 0   id                              20757 non-null  int64  \n",
      " 1   Gender                          20757 non-null  object \n",
      " 2   Age                             20757 non-null  float64\n",
      " 3   Height                          20757 non-null  float64\n",
      " 4   Weight                          20757 non-null  float64\n",
      " 5   family_history_with_overweight  20757 non-null  object \n",
      " 6   FAVC                            20757 non-null  object \n",
      " 7   FCVC                            20757 non-null  float64\n",
      " 8   NCP                             20757 non-null  float64\n",
      " 9   CAEC                            20757 non-null  object \n",
      " 10  SMOKE                           20757 non-null  object \n",
      " 11  CH2O                            20757 non-null  float64\n",
      " 12  SCC                             20757 non-null  object \n",
      " 13  FAF                             20757 non-null  float64\n",
      " 14  TUE                             20757 non-null  float64\n",
      " 15  CALC                            20757 non-null  object \n",
      " 16  MTRANS                          20757 non-null  object \n",
      " 17  NObeyesdad                      20757 non-null  int64  \n",
      " 18  id_scaled                       20757 non-null  float64\n",
      " 19  Age_scaled                      20757 non-null  float64\n",
      " 20  Height_scaled                   20757 non-null  float64\n",
      " 21  Weight_scaled                   20757 non-null  float64\n",
      " 22  FCVC_scaled                     20757 non-null  float64\n",
      " 23  NCP_scaled                      20757 non-null  float64\n",
      " 24  CH2O_scaled                     20757 non-null  float64\n",
      " 25  FAF_scaled                      20757 non-null  float64\n",
      " 26  TUE_scaled                      20757 non-null  float64\n",
      " 27  BMI                             20757 non-null  float64\n",
      " 28  Caloric_Intake                  20757 non-null  float64\n",
      " 29  Weight_Status_Score             20757 non-null  float64\n",
      " 30  Physical_Activity_Minutes       20757 non-null  float64\n",
      " 31  Nutrient_Ratio                  20757 non-null  float64\n",
      " 32  Age_Weighted_BMI                20757 non-null  float64\n",
      " 33  Physical_Activity_Diversity     20757 non-null  float64\n",
      " 34  Weight_Change_Rate              20757 non-null  float64\n",
      " 35  CAEC1                           20757 non-null  int64  \n",
      " 36  Gender1                         20757 non-null  int64  \n",
      "dtypes: float64(25), int64(4), object(8)\n",
      "memory usage: 6.0+ MB\n"
     ]
    }
   ],
   "source": [
    "df_train.info()"
   ]
  },
  {
   "cell_type": "code",
   "execution_count": null,
   "metadata": {},
   "outputs": [],
   "source": []
  },
  {
   "cell_type": "code",
   "execution_count": 87,
   "metadata": {
    "execution": {
     "iopub.execute_input": "2024-02-22T17:58:47.692103Z",
     "iopub.status.busy": "2024-02-22T17:58:47.691551Z",
     "iopub.status.idle": "2024-02-22T17:58:47.700326Z",
     "shell.execute_reply": "2024-02-22T17:58:47.698835Z",
     "shell.execute_reply.started": "2024-02-22T17:58:47.692057Z"
    }
   },
   "outputs": [
    {
     "name": "stdout",
     "output_type": "stream",
     "text": [
      "Missing columns in df_test from df: {'NObeyesdad'}\n",
      "Missing columns in df_train from df1: set()\n"
     ]
    }
   ],
   "source": [
    "\n",
    "missing_columns_train = set(df.columns) - set(df1.columns)\n",
    "\n",
    "# Get the columns present in df_test but not in df_train\n",
    "missing_columns_test = set(df1.columns) - set(df.columns)\n",
    "\n",
    "# Print the results\n",
    "print(\"Missing columns in df_test from df:\", missing_columns_train)\n",
    "print(\"Missing columns in df_train from df1:\", missing_columns_test)\n"
   ]
  },
  {
   "cell_type": "code",
   "execution_count": null,
   "metadata": {},
   "outputs": [],
   "source": []
  },
  {
   "cell_type": "code",
   "execution_count": 88,
   "metadata": {
    "execution": {
     "iopub.execute_input": "2024-02-22T17:58:48.277629Z",
     "iopub.status.busy": "2024-02-22T17:58:48.277178Z",
     "iopub.status.idle": "2024-02-22T17:58:48.346375Z",
     "shell.execute_reply": "2024-02-22T17:58:48.344802Z",
     "shell.execute_reply.started": "2024-02-22T17:58:48.277598Z"
    }
   },
   "outputs": [
    {
     "name": "stdout",
     "output_type": "stream",
     "text": [
      "   id        Age    Height      Weight      FCVC       NCP      CH2O  \\\n",
      "1   1  18.000000  1.560000   57.000000  2.000000  3.000000  2.000000   \n",
      "2   2  18.000000  1.711460   50.165754  1.880534  1.411685  1.910378   \n",
      "3   3  20.952737  1.710730  131.274851  3.000000  3.000000  1.674061   \n",
      "4   4  31.641081  1.914186   93.798055  2.679664  1.971472  1.979848   \n",
      "5   5  18.128249  1.748524   51.552595  2.919751  3.000000  2.137550   \n",
      "\n",
      "        FAF       TUE  NObeyesdad  ...  SCC_no  SCC_yes  CALC_Frequently  \\\n",
      "1  1.000000  1.000000           1  ...    True    False            False   \n",
      "2  0.866045  1.673584           0  ...    True    False            False   \n",
      "3  1.467863  0.780199           6  ...    True    False            False   \n",
      "4  1.967973  0.931721           3  ...    True    False            False   \n",
      "5  1.930033  1.000000           0  ...    True    False            False   \n",
      "\n",
      "   CALC_Sometimes  CALC_no  MTRANS_Automobile  MTRANS_Bike  MTRANS_Motorbike  \\\n",
      "1           False     True               True        False             False   \n",
      "2           False     True              False        False             False   \n",
      "3            True    False              False        False             False   \n",
      "4            True    False              False        False             False   \n",
      "5            True    False              False        False             False   \n",
      "\n",
      "   MTRANS_Public_Transportation  MTRANS_Walking  \n",
      "1                         False           False  \n",
      "2                          True           False  \n",
      "3                          True           False  \n",
      "4                          True           False  \n",
      "5                          True           False  \n",
      "\n",
      "[5 rows x 51 columns]\n"
     ]
    }
   ],
   "source": [
    "\n",
    "\n",
    "# Specify columns to one-hot encode\n",
    "columns_to_one_hot_encode = ['Gender', 'family_history_with_overweight', 'FAVC', 'CAEC', 'SMOKE', 'SCC', 'CALC', 'MTRANS']\n",
    "\n",
    "# Use pd.get_dummies to apply one-hot encoding to each specified column\n",
    "df = pd.get_dummies(df, columns=columns_to_one_hot_encode)\n",
    "\n",
    "# Display the updated DataFrame\n",
    "print(df.head())\n"
   ]
  },
  {
   "cell_type": "code",
   "execution_count": 89,
   "metadata": {
    "execution": {
     "iopub.execute_input": "2024-02-22T17:58:48.418680Z",
     "iopub.status.busy": "2024-02-22T17:58:48.418207Z",
     "iopub.status.idle": "2024-02-22T17:58:48.468833Z",
     "shell.execute_reply": "2024-02-22T17:58:48.467848Z",
     "shell.execute_reply.started": "2024-02-22T17:58:48.418647Z"
    }
   },
   "outputs": [
    {
     "name": "stdout",
     "output_type": "stream",
     "text": [
      "      id  Gender        Age    Height      Weight  \\\n",
      "1  20759  Female  21.000000  1.600000   66.000000   \n",
      "2  20760  Female  26.000000  1.643355  111.600553   \n",
      "3  20761    Male  20.979254  1.553127  103.669116   \n",
      "4  20762  Female  26.000000  1.627396  104.835346   \n",
      "5  20763    Male  19.799054  1.844751   59.605028   \n",
      "\n",
      "  family_history_with_overweight FAVC  FCVC       NCP       CAEC  ...  \\\n",
      "1                            yes  yes   2.0  1.000000  Sometimes  ...   \n",
      "2                            yes  yes   3.0  3.000000  Sometimes  ...   \n",
      "3                            yes  yes   2.0  2.977909  Sometimes  ...   \n",
      "4                            yes  yes   3.0  3.000000  Sometimes  ...   \n",
      "5                            yes  yes   2.0  4.000000  Sometimes  ...   \n",
      "\n",
      "         BMI  Caloric_Intake Weight_Status_Score  Physical_Activity_Minutes  \\\n",
      "1  25.781250        9.000000           -0.818959                   0.000000   \n",
      "2  41.324115        7.865631            0.927398                   0.000000   \n",
      "3  42.976937        5.837128            0.623649                   0.000000   \n",
      "4  39.584143        7.960593            0.668312                   0.000000   \n",
      "5  17.514889       10.888252           -1.063866                   2.634439   \n",
      "\n",
      "   Nutrient_Ratio Age_Weighted_BMI Physical_Activity_Diversity  \\\n",
      "1        1.000000        34.656762                    2.000000   \n",
      "2        0.655469        58.937673                    0.000000   \n",
      "3        0.928806        57.757659                    0.189702   \n",
      "4        0.663383        56.456072                    0.000000   \n",
      "5        0.907354        23.199778                    4.000000   \n",
      "\n",
      "   Weight_Change_Rate  CAEC1  Gender1  \n",
      "1           -0.452937      6        6  \n",
      "2            0.690917      6        6  \n",
      "3           -0.071070      6        5  \n",
      "4            0.011250      6        6  \n",
      "5           -0.431441      6        5  \n",
      "\n",
      "[5 rows x 36 columns]\n"
     ]
    }
   ],
   "source": [
    "\n",
    "\n",
    "# Specify columns to one-hot encode\n",
    "columns_to_one_hot_encode = ['Gender', 'family_history_with_overweight', 'FAVC', 'CAEC', 'SMOKE', 'SCC', 'CALC', 'MTRANS']\n",
    "\n",
    "# Use pd.get_dummies to apply one-hot encoding to each specified column\n",
    "df1 = pd.get_dummies(df1, columns=columns_to_one_hot_encode)\n",
    "\n",
    "# Display the updated DataFrame\n",
    "print(df_test.head())\n"
   ]
  },
  {
   "cell_type": "code",
   "execution_count": 90,
   "metadata": {
    "execution": {
     "iopub.execute_input": "2024-02-22T17:58:48.533708Z",
     "iopub.status.busy": "2024-02-22T17:58:48.533240Z",
     "iopub.status.idle": "2024-02-22T17:58:48.554462Z",
     "shell.execute_reply": "2024-02-22T17:58:48.553152Z",
     "shell.execute_reply.started": "2024-02-22T17:58:48.533673Z"
    }
   },
   "outputs": [
    {
     "name": "stdout",
     "output_type": "stream",
     "text": [
      "<class 'pandas.core.frame.DataFrame'>\n",
      "Index: 20757 entries, 1 to 20757\n",
      "Data columns (total 51 columns):\n",
      " #   Column                              Non-Null Count  Dtype  \n",
      "---  ------                              --------------  -----  \n",
      " 0   id                                  20757 non-null  int64  \n",
      " 1   Age                                 20757 non-null  float64\n",
      " 2   Height                              20757 non-null  float64\n",
      " 3   Weight                              20757 non-null  float64\n",
      " 4   FCVC                                20757 non-null  float64\n",
      " 5   NCP                                 20757 non-null  float64\n",
      " 6   CH2O                                20757 non-null  float64\n",
      " 7   FAF                                 20757 non-null  float64\n",
      " 8   TUE                                 20757 non-null  float64\n",
      " 9   NObeyesdad                          20757 non-null  int64  \n",
      " 10  id_scaled                           20757 non-null  float64\n",
      " 11  Age_scaled                          20757 non-null  float64\n",
      " 12  Height_scaled                       20757 non-null  float64\n",
      " 13  Weight_scaled                       20757 non-null  float64\n",
      " 14  FCVC_scaled                         20757 non-null  float64\n",
      " 15  NCP_scaled                          20757 non-null  float64\n",
      " 16  CH2O_scaled                         20757 non-null  float64\n",
      " 17  FAF_scaled                          20757 non-null  float64\n",
      " 18  TUE_scaled                          20757 non-null  float64\n",
      " 19  BMI                                 20757 non-null  float64\n",
      " 20  Caloric_Intake                      20757 non-null  float64\n",
      " 21  Weight_Status_Score                 20757 non-null  float64\n",
      " 22  Physical_Activity_Minutes           20757 non-null  float64\n",
      " 23  Nutrient_Ratio                      20757 non-null  float64\n",
      " 24  Age_Weighted_BMI                    20757 non-null  float64\n",
      " 25  Physical_Activity_Diversity         20757 non-null  float64\n",
      " 26  Weight_Change_Rate                  20757 non-null  float64\n",
      " 27  CAEC1                               20757 non-null  int64  \n",
      " 28  Gender1                             20757 non-null  int64  \n",
      " 29  Gender_Female                       20757 non-null  bool   \n",
      " 30  Gender_Male                         20757 non-null  bool   \n",
      " 31  family_history_with_overweight_no   20757 non-null  bool   \n",
      " 32  family_history_with_overweight_yes  20757 non-null  bool   \n",
      " 33  FAVC_no                             20757 non-null  bool   \n",
      " 34  FAVC_yes                            20757 non-null  bool   \n",
      " 35  CAEC_Always                         20757 non-null  bool   \n",
      " 36  CAEC_Frequently                     20757 non-null  bool   \n",
      " 37  CAEC_Sometimes                      20757 non-null  bool   \n",
      " 38  CAEC_no                             20757 non-null  bool   \n",
      " 39  SMOKE_no                            20757 non-null  bool   \n",
      " 40  SMOKE_yes                           20757 non-null  bool   \n",
      " 41  SCC_no                              20757 non-null  bool   \n",
      " 42  SCC_yes                             20757 non-null  bool   \n",
      " 43  CALC_Frequently                     20757 non-null  bool   \n",
      " 44  CALC_Sometimes                      20757 non-null  bool   \n",
      " 45  CALC_no                             20757 non-null  bool   \n",
      " 46  MTRANS_Automobile                   20757 non-null  bool   \n",
      " 47  MTRANS_Bike                         20757 non-null  bool   \n",
      " 48  MTRANS_Motorbike                    20757 non-null  bool   \n",
      " 49  MTRANS_Public_Transportation        20757 non-null  bool   \n",
      " 50  MTRANS_Walking                      20757 non-null  bool   \n",
      "dtypes: bool(22), float64(25), int64(4)\n",
      "memory usage: 5.2 MB\n"
     ]
    }
   ],
   "source": [
    "df.info()"
   ]
  },
  {
   "cell_type": "code",
   "execution_count": 91,
   "metadata": {
    "execution": {
     "iopub.execute_input": "2024-02-22T17:58:48.683937Z",
     "iopub.status.busy": "2024-02-22T17:58:48.683459Z",
     "iopub.status.idle": "2024-02-22T17:58:48.704289Z",
     "shell.execute_reply": "2024-02-22T17:58:48.702823Z",
     "shell.execute_reply.started": "2024-02-22T17:58:48.683904Z"
    }
   },
   "outputs": [
    {
     "name": "stdout",
     "output_type": "stream",
     "text": [
      "<class 'pandas.core.frame.DataFrame'>\n",
      "Index: 13839 entries, 1 to 13839\n",
      "Data columns (total 51 columns):\n",
      " #   Column                              Non-Null Count  Dtype  \n",
      "---  ------                              --------------  -----  \n",
      " 0   id                                  13839 non-null  int64  \n",
      " 1   Age                                 13839 non-null  float64\n",
      " 2   Height                              13839 non-null  float64\n",
      " 3   Weight                              13839 non-null  float64\n",
      " 4   FCVC                                13839 non-null  float64\n",
      " 5   NCP                                 13839 non-null  float64\n",
      " 6   CH2O                                13839 non-null  float64\n",
      " 7   FAF                                 13839 non-null  float64\n",
      " 8   TUE                                 13839 non-null  float64\n",
      " 9   id_scaled                           13839 non-null  float64\n",
      " 10  Age_scaled                          13839 non-null  float64\n",
      " 11  Height_scaled                       13839 non-null  float64\n",
      " 12  Weight_scaled                       13839 non-null  float64\n",
      " 13  FCVC_scaled                         13839 non-null  float64\n",
      " 14  NCP_scaled                          13839 non-null  float64\n",
      " 15  CH2O_scaled                         13839 non-null  float64\n",
      " 16  FAF_scaled                          13839 non-null  float64\n",
      " 17  TUE_scaled                          13839 non-null  float64\n",
      " 18  BMI                                 13839 non-null  float64\n",
      " 19  Caloric_Intake                      13839 non-null  float64\n",
      " 20  Weight_Status_Score                 13839 non-null  float64\n",
      " 21  Physical_Activity_Minutes           13839 non-null  float64\n",
      " 22  Nutrient_Ratio                      13839 non-null  float64\n",
      " 23  Age_Weighted_BMI                    13839 non-null  float64\n",
      " 24  Physical_Activity_Diversity         13839 non-null  float64\n",
      " 25  Weight_Change_Rate                  13839 non-null  float64\n",
      " 26  CAEC1                               13839 non-null  int64  \n",
      " 27  Gender1                             13839 non-null  int64  \n",
      " 28  Gender_Female                       13839 non-null  bool   \n",
      " 29  Gender_Male                         13839 non-null  bool   \n",
      " 30  family_history_with_overweight_no   13839 non-null  bool   \n",
      " 31  family_history_with_overweight_yes  13839 non-null  bool   \n",
      " 32  FAVC_no                             13839 non-null  bool   \n",
      " 33  FAVC_yes                            13839 non-null  bool   \n",
      " 34  CAEC_Always                         13839 non-null  bool   \n",
      " 35  CAEC_Frequently                     13839 non-null  bool   \n",
      " 36  CAEC_Sometimes                      13839 non-null  bool   \n",
      " 37  CAEC_no                             13839 non-null  bool   \n",
      " 38  SMOKE_no                            13839 non-null  bool   \n",
      " 39  SMOKE_yes                           13839 non-null  bool   \n",
      " 40  SCC_no                              13839 non-null  bool   \n",
      " 41  SCC_yes                             13839 non-null  bool   \n",
      " 42  CALC_Always                         13839 non-null  bool   \n",
      " 43  CALC_Frequently                     13839 non-null  bool   \n",
      " 44  CALC_Sometimes                      13839 non-null  bool   \n",
      " 45  CALC_no                             13839 non-null  bool   \n",
      " 46  MTRANS_Automobile                   13839 non-null  bool   \n",
      " 47  MTRANS_Bike                         13839 non-null  bool   \n",
      " 48  MTRANS_Motorbike                    13839 non-null  bool   \n",
      " 49  MTRANS_Public_Transportation        13839 non-null  bool   \n",
      " 50  MTRANS_Walking                      13839 non-null  bool   \n",
      "dtypes: bool(23), float64(25), int64(3)\n",
      "memory usage: 3.4 MB\n"
     ]
    }
   ],
   "source": [
    "df1.info()"
   ]
  },
  {
   "cell_type": "code",
   "execution_count": 92,
   "metadata": {
    "execution": {
     "iopub.execute_input": "2024-02-22T17:58:48.829648Z",
     "iopub.status.busy": "2024-02-22T17:58:48.829159Z",
     "iopub.status.idle": "2024-02-22T17:58:48.838485Z",
     "shell.execute_reply": "2024-02-22T17:58:48.837195Z",
     "shell.execute_reply.started": "2024-02-22T17:58:48.829602Z"
    }
   },
   "outputs": [],
   "source": [
    "df1=df1.drop(['id'],axis=1)"
   ]
  },
  {
   "cell_type": "code",
   "execution_count": 93,
   "metadata": {
    "execution": {
     "iopub.execute_input": "2024-02-22T17:58:48.969948Z",
     "iopub.status.busy": "2024-02-22T17:58:48.968670Z",
     "iopub.status.idle": "2024-02-22T17:58:48.986770Z",
     "shell.execute_reply": "2024-02-22T17:58:48.984855Z",
     "shell.execute_reply.started": "2024-02-22T17:58:48.969880Z"
    }
   },
   "outputs": [
    {
     "data": {
      "text/plain": [
       "id                                    0\n",
       "Age                                   0\n",
       "Height                                0\n",
       "Weight                                0\n",
       "FCVC                                  0\n",
       "NCP                                   0\n",
       "CH2O                                  0\n",
       "FAF                                   0\n",
       "TUE                                   0\n",
       "NObeyesdad                            0\n",
       "id_scaled                             0\n",
       "Age_scaled                            0\n",
       "Height_scaled                         0\n",
       "Weight_scaled                         0\n",
       "FCVC_scaled                           0\n",
       "NCP_scaled                            0\n",
       "CH2O_scaled                           0\n",
       "FAF_scaled                            0\n",
       "TUE_scaled                            0\n",
       "BMI                                   0\n",
       "Caloric_Intake                        0\n",
       "Weight_Status_Score                   0\n",
       "Physical_Activity_Minutes             0\n",
       "Nutrient_Ratio                        0\n",
       "Age_Weighted_BMI                      0\n",
       "Physical_Activity_Diversity           0\n",
       "Weight_Change_Rate                    0\n",
       "CAEC1                                 0\n",
       "Gender1                               0\n",
       "Gender_Female                         0\n",
       "Gender_Male                           0\n",
       "family_history_with_overweight_no     0\n",
       "family_history_with_overweight_yes    0\n",
       "FAVC_no                               0\n",
       "FAVC_yes                              0\n",
       "CAEC_Always                           0\n",
       "CAEC_Frequently                       0\n",
       "CAEC_Sometimes                        0\n",
       "CAEC_no                               0\n",
       "SMOKE_no                              0\n",
       "SMOKE_yes                             0\n",
       "SCC_no                                0\n",
       "SCC_yes                               0\n",
       "CALC_Frequently                       0\n",
       "CALC_Sometimes                        0\n",
       "CALC_no                               0\n",
       "MTRANS_Automobile                     0\n",
       "MTRANS_Bike                           0\n",
       "MTRANS_Motorbike                      0\n",
       "MTRANS_Public_Transportation          0\n",
       "MTRANS_Walking                        0\n",
       "dtype: int64"
      ]
     },
     "execution_count": 93,
     "metadata": {},
     "output_type": "execute_result"
    }
   ],
   "source": [
    "df.isna().sum()"
   ]
  },
  {
   "cell_type": "code",
   "execution_count": 94,
   "metadata": {
    "execution": {
     "iopub.execute_input": "2024-02-22T17:58:49.716034Z",
     "iopub.status.busy": "2024-02-22T17:58:49.715564Z",
     "iopub.status.idle": "2024-02-22T17:58:49.726169Z",
     "shell.execute_reply": "2024-02-22T17:58:49.724630Z",
     "shell.execute_reply.started": "2024-02-22T17:58:49.715994Z"
    }
   },
   "outputs": [],
   "source": [
    "X=df.drop(['id','NObeyesdad'],axis=1)"
   ]
  },
  {
   "cell_type": "code",
   "execution_count": 95,
   "metadata": {
    "execution": {
     "iopub.execute_input": "2024-02-22T17:58:49.857926Z",
     "iopub.status.busy": "2024-02-22T17:58:49.857449Z",
     "iopub.status.idle": "2024-02-22T17:58:49.863965Z",
     "shell.execute_reply": "2024-02-22T17:58:49.862071Z",
     "shell.execute_reply.started": "2024-02-22T17:58:49.857896Z"
    }
   },
   "outputs": [],
   "source": [
    "y=df['NObeyesdad']"
   ]
  },
  {
   "cell_type": "code",
   "execution_count": 96,
   "metadata": {
    "execution": {
     "iopub.execute_input": "2024-02-22T17:58:49.931969Z",
     "iopub.status.busy": "2024-02-22T17:58:49.931432Z",
     "iopub.status.idle": "2024-02-22T17:58:49.940524Z",
     "shell.execute_reply": "2024-02-22T17:58:49.938955Z",
     "shell.execute_reply.started": "2024-02-22T17:58:49.931928Z"
    }
   },
   "outputs": [
    {
     "name": "stdout",
     "output_type": "stream",
     "text": [
      "Missing columns in df_test from df: {'id', 'NObeyesdad'}\n",
      "Missing columns in df_train from df1: {'CALC_Always'}\n"
     ]
    }
   ],
   "source": [
    "\n",
    "missing_columns_train = set(df.columns) - set(df1.columns)\n",
    "\n",
    "# Get the columns present in df_test but not in df_train\n",
    "missing_columns_test = set(df1.columns) - set(df.columns)\n",
    "\n",
    "# Print the results\n",
    "print(\"Missing columns in df_test from df:\", missing_columns_train)\n",
    "print(\"Missing columns in df_train from df1:\", missing_columns_test)\n"
   ]
  },
  {
   "cell_type": "code",
   "execution_count": 97,
   "metadata": {
    "execution": {
     "iopub.execute_input": "2024-02-22T17:58:49.979658Z",
     "iopub.status.busy": "2024-02-22T17:58:49.978582Z",
     "iopub.status.idle": "2024-02-22T17:58:49.992240Z",
     "shell.execute_reply": "2024-02-22T17:58:49.990432Z",
     "shell.execute_reply.started": "2024-02-22T17:58:49.979609Z"
    }
   },
   "outputs": [],
   "source": [
    "df1=df1.drop(['CALC_Always'],axis=1)"
   ]
  },
  {
   "cell_type": "code",
   "execution_count": 98,
   "metadata": {
    "execution": {
     "iopub.execute_input": "2024-02-22T17:58:50.073625Z",
     "iopub.status.busy": "2024-02-22T17:58:50.073159Z",
     "iopub.status.idle": "2024-02-22T17:58:50.082814Z",
     "shell.execute_reply": "2024-02-22T17:58:50.081378Z",
     "shell.execute_reply.started": "2024-02-22T17:58:50.073593Z"
    }
   },
   "outputs": [
    {
     "data": {
      "text/plain": [
       "((20757, 49), (13839, 49))"
      ]
     },
     "execution_count": 98,
     "metadata": {},
     "output_type": "execute_result"
    }
   ],
   "source": [
    "X.shape,df1.shape"
   ]
  },
  {
   "cell_type": "code",
   "execution_count": null,
   "metadata": {},
   "outputs": [],
   "source": []
  },
  {
   "cell_type": "code",
   "execution_count": null,
   "metadata": {},
   "outputs": [],
   "source": []
  },
  {
   "cell_type": "code",
   "execution_count": 99,
   "metadata": {
    "execution": {
     "iopub.execute_input": "2024-02-22T17:58:50.248925Z",
     "iopub.status.busy": "2024-02-22T17:58:50.248394Z",
     "iopub.status.idle": "2024-02-22T17:59:32.214932Z",
     "shell.execute_reply": "2024-02-22T17:59:32.213719Z",
     "shell.execute_reply.started": "2024-02-22T17:58:50.248888Z"
    }
   },
   "outputs": [
    {
     "name": "stdout",
     "output_type": "stream",
     "text": [
      "Fold 1 Accuracy: 0.9085\n",
      "Fold 2 Accuracy: 0.9017\n",
      "Fold 3 Accuracy: 0.8940\n",
      "Fold 4 Accuracy: 0.9037\n",
      "Fold 5 Accuracy: 0.9128\n",
      "Fold 6 Accuracy: 0.9046\n",
      "Fold 7 Accuracy: 0.9133\n",
      "Fold 8 Accuracy: 0.9070\n",
      "Fold 9 Accuracy: 0.9128\n",
      "Fold 10 Accuracy: 0.9051\n",
      "\n",
      "Mean Accuracy: 0.9063\n"
     ]
    }
   ],
   "source": [
    "import numpy as np\n",
    "from sklearn.model_selection import StratifiedKFold\n",
    "from sklearn.metrics import accuracy_score\n",
    "from xgboost import XGBClassifier\n",
    "from sklearn.preprocessing import RobustScaler,MinMaxScaler\n",
    "\n",
    "# Assuming you have your features X and labels y as pandas DataFrame\n",
    "# Make sure that X and y are pandas DataFrame\n",
    "\n",
    "# Create a StratifiedKFold object with 5 folds\n",
    "stratified_kfold = StratifiedKFold(n_splits=10, shuffle=True, random_state=42)\n",
    "\n",
    "# Create and fit the RobustScaler to the entire data\n",
    "scaler = MinMaxScaler()\n",
    "X_scaled = scaler.fit_transform(X)\n",
    "\n",
    "# Convert X_scaled to DataFrame if it is not already\n",
    "X_scaled = pd.DataFrame(X_scaled, columns=X.columns)\n",
    "\n",
    "# Initialize an empty list to store the accuracy scores\n",
    "accuracy_scores = []\n",
    "\n",
    "# Loop through the folds\n",
    "for fold, (train_index, test_index) in enumerate(stratified_kfold.split(X_scaled, y), 1):\n",
    "    X_train, X_test = X_scaled.iloc[train_index], X_scaled.iloc[test_index]\n",
    "    y_train, y_test = y.iloc[train_index], y.iloc[test_index]\n",
    "\n",
    "    # Create XGBoost classifier\n",
    "    xgb_classifier = XGBClassifier()\n",
    "\n",
    "    # Train the classifier on the scaled training data\n",
    "    xgb_classifier.fit(X_train, y_train)\n",
    "\n",
    "    # Make predictions on the scaled test set\n",
    "    y_pred = xgb_classifier.predict(X_test)\n",
    "\n",
    "    # Calculate accuracy and store in the list\n",
    "    accuracy = accuracy_score(y_test, y_pred)\n",
    "    accuracy_scores.append(accuracy)\n",
    "\n",
    "    # Print accuracy for each fold\n",
    "    print(f\"Fold {fold} Accuracy: {accuracy:.4f}\")\n",
    "\n",
    "# Calculate the mean accuracy\n",
    "mean_accuracy = np.mean(accuracy_scores)\n",
    "\n",
    "print(f\"\\nMean Accuracy: {mean_accuracy:.4f}\")\n"
   ]
  },
  {
   "cell_type": "code",
   "execution_count": 101,
   "metadata": {
    "execution": {
     "iopub.execute_input": "2024-02-22T17:59:52.940207Z",
     "iopub.status.busy": "2024-02-22T17:59:52.939661Z",
     "iopub.status.idle": "2024-02-22T17:59:58.565387Z",
     "shell.execute_reply": "2024-02-22T17:59:58.564039Z",
     "shell.execute_reply.started": "2024-02-22T17:59:52.940169Z"
    }
   },
   "outputs": [
    {
     "name": "stdout",
     "output_type": "stream",
     "text": [
      "[LightGBM] [Info] Auto-choosing row-wise multi-threading, the overhead of testing was 0.008212 seconds.\n",
      "You can set `force_row_wise=true` to remove the overhead.\n",
      "And if memory is not enough, you can set `force_col_wise=true`.\n",
      "[LightGBM] [Info] Total Bins 6388\n",
      "[LightGBM] [Info] Number of data points in the train set: 16605, number of used features: 49\n",
      "[LightGBM] [Info] Start training from score -2.105122\n",
      "[LightGBM] [Info] Start training from score -1.914841\n",
      "[LightGBM] [Info] Start training from score -2.148563\n",
      "[LightGBM] [Info] Start training from score -2.121067\n",
      "[LightGBM] [Info] Start training from score -1.956566\n",
      "[LightGBM] [Info] Start training from score -1.848440\n",
      "[LightGBM] [Info] Start training from score -1.632589\n",
      "Accuracy: 0.91209\n"
     ]
    }
   ],
   "source": [
    "import numpy as np\n",
    "import warnings\n",
    "from sklearn.model_selection import train_test_split\n",
    "from sklearn.metrics import accuracy_score\n",
    "from lightgbm import LGBMClassifier\n",
    "\n",
    "# Ignore warnings\n",
    "warnings.filterwarnings(\"ignore\")\n",
    "\n",
    "# Assuming you have your features X and labels y\n",
    "\n",
    "# Split the data into training and testing sets\n",
    "X_train, X_test, y_train, y_test = train_test_split(X, y, test_size=0.2, random_state=42)\n",
    "\n",
    "# Create LightGBM classifier\n",
    "lgbm_classifier = LGBMClassifier()\n",
    "\n",
    "# Train the classifier on the training data\n",
    "lgbm_classifier.fit(X_train, y_train)\n",
    "\n",
    "# Make predictions on the test set\n",
    "y_pred = lgbm_classifier.predict(X_test)\n",
    "\n",
    "# Calculate accuracy\n",
    "accuracy = accuracy_score(y_test, y_pred)\n",
    "\n",
    "print(f\"Accuracy: {accuracy:.5f}\")\n"
   ]
  },
  {
   "cell_type": "code",
   "execution_count": null,
   "metadata": {},
   "outputs": [],
   "source": []
  }
 ],
 "metadata": {
  "kaggle": {
   "accelerator": "none",
   "dataSources": [
    {
     "datasetId": 4461069,
     "sourceId": 7652209,
     "sourceType": "datasetVersion"
    },
    {
     "datasetId": 4461114,
     "sourceId": 7652279,
     "sourceType": "datasetVersion"
    }
   ],
   "dockerImageVersionId": 30646,
   "isGpuEnabled": false,
   "isInternetEnabled": true,
   "language": "python",
   "sourceType": "notebook"
  },
  "kernelspec": {
   "display_name": "Python 3 (ipykernel)",
   "language": "python",
   "name": "python3"
  },
  "language_info": {
   "codemirror_mode": {
    "name": "ipython",
    "version": 3
   },
   "file_extension": ".py",
   "mimetype": "text/x-python",
   "name": "python",
   "nbconvert_exporter": "python",
   "pygments_lexer": "ipython3",
   "version": "3.8.10"
  }
 },
 "nbformat": 4,
 "nbformat_minor": 4
}
